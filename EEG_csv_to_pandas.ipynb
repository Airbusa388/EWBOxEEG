{
  "nbformat": 4,
  "nbformat_minor": 0,
  "metadata": {
    "colab": {
      "name": "EEG_csv_to_pandas.ipynb",
      "provenance": [],
      "collapsed_sections": []
    },
    "kernelspec": {
      "name": "python3",
      "display_name": "Python 3"
    }
  },
  "cells": [
    {
      "cell_type": "markdown",
      "metadata": {
        "id": "kgsfMVePq3M3"
      },
      "source": [
        "# EEG CSV to Pandas dfs"
      ]
    },
    {
      "cell_type": "code",
      "metadata": {
        "id": "2GiVGN4uYm6A",
        "colab": {
          "base_uri": "https://localhost:8080/"
        },
        "outputId": "5d617011-43c8-436d-924b-4d64250411d7"
      },
      "source": [
        "from google.colab import drive\n",
        "drive.mount('/content/drive')"
      ],
      "execution_count": 70,
      "outputs": [
        {
          "output_type": "stream",
          "text": [
            "Drive already mounted at /content/drive; to attempt to forcibly remount, call drive.mount(\"/content/drive\", force_remount=True).\n"
          ],
          "name": "stdout"
        }
      ]
    },
    {
      "cell_type": "code",
      "metadata": {
        "id": "Y3HFAR-6sWqg"
      },
      "source": [
        "import sys\n",
        "sys.path.append('/content/drive/My Drive/')"
      ],
      "execution_count": 71,
      "outputs": []
    },
    {
      "cell_type": "code",
      "metadata": {
        "id": "eKxRrwftgJIP"
      },
      "source": [
        "import pandas as pd\n",
        "import os\n",
        "import glob"
      ],
      "execution_count": 72,
      "outputs": []
    },
    {
      "cell_type": "code",
      "metadata": {
        "id": "yJGiqC0agfp3"
      },
      "source": [
        "# Define your own directory here - should contain 3 folders with CSVs - ictal, interictal, preictal\r\n",
        "\r\n",
        "csv_path = '/content/drive/My Drive/EEG_Project/CSV_dataforms1/'"
      ],
      "execution_count": 73,
      "outputs": []
    },
    {
      "cell_type": "code",
      "metadata": {
        "colab": {
          "base_uri": "https://localhost:8080/"
        },
        "id": "S_btVSjRa9wo",
        "outputId": "f4040884-8985-4b48-e238-a219b0b1a7b1"
      },
      "source": [
        "# Ictal\r\n",
        "\r\n",
        "stage = \"ictal\"\r\n",
        "\r\n",
        "# Get all CSV files\r\n",
        "all_files = glob.glob(csv_path + stage + \"/*.csv\")\r\n",
        "\r\n",
        "# Get list of filenames for use as headers in final dataframe\r\n",
        "header_list = os.listdir(csv_path + stage)   \r\n",
        "\r\n",
        "# To store dataframes for combining later\r\n",
        "li = []   \r\n",
        "\r\n",
        "# Read all CSV files and add to list of dataframes\r\n",
        "for i in range(len(all_files)):\r\n",
        "  df = pd.read_csv(all_files[i], index_col=None, header=None)\r\n",
        "  li.append(df) \r\n",
        "\r\n",
        "# Combine all dfs\r\n",
        "ictal_df = pd.concat(li, axis=1, ignore_index=True)   # axis=1 to concat columns\r\n",
        "ictal_df.columns = header_list\r\n",
        "\r\n",
        "print(ictal_df)"
      ],
      "execution_count": 74,
      "outputs": [
        {
          "output_type": "stream",
          "text": [
            "      ictal8.csv  ictal7.csv  ...  ictal49.csv  ictal15.csv\n",
            "0             59          35  ...          -78         -222\n",
            "1             86          33  ...          -51         -196\n",
            "2            104          40  ...           -7         -168\n",
            "3            110          38  ...           41         -156\n",
            "4            111          34  ...           85         -138\n",
            "...          ...         ...  ...          ...          ...\n",
            "1019        -182         -48  ...           32          380\n",
            "1020        -178         -41  ...           35          377\n",
            "1021        -177         -17  ...           42          342\n",
            "1022        -167          10  ...           49          260\n",
            "1023        -162          33  ...           48          136\n",
            "\n",
            "[1024 rows x 50 columns]\n"
          ],
          "name": "stdout"
        }
      ]
    },
    {
      "cell_type": "code",
      "metadata": {
        "colab": {
          "base_uri": "https://localhost:8080/"
        },
        "id": "TUDj3snZg9KI",
        "outputId": "670b274f-f077-4ef2-9c11-2d618b657d1f"
      },
      "source": [
        "# Interictal\r\n",
        "# Same code just for different directory\r\n",
        "\r\n",
        "stage = \"interictal\"\r\n",
        "\r\n",
        "# Get all CSV files\r\n",
        "all_files = glob.glob(csv_path + stage + \"/*.csv\")\r\n",
        "\r\n",
        "# Get list of filenames for use as headers in final dataframe\r\n",
        "header_list = os.listdir(csv_path + stage)   \r\n",
        "\r\n",
        "# To store dataframes for combining later\r\n",
        "li = []   \r\n",
        "\r\n",
        "# Read all CSV files and add to list of dataframes\r\n",
        "for i in range(len(all_files)):\r\n",
        "  df = pd.read_csv(all_files[i], index_col=None, header=None)\r\n",
        "  li.append(df) \r\n",
        "\r\n",
        "# Combine all dfs\r\n",
        "interictal_df = pd.concat(li, axis=1, ignore_index=True)   # axis=1 to concat columns\r\n",
        "interictal_df.columns = header_list\r\n",
        "\r\n",
        "print(interictal_df)"
      ],
      "execution_count": 75,
      "outputs": [
        {
          "output_type": "stream",
          "text": [
            "      interictal4.csv  interictal1.csv  ...  interictal50.csv  interictal49.csv\n",
            "0                  16                9  ...               -37                 6\n",
            "1                  22               11  ...               -19                 7\n",
            "2                  24               11  ...                 0                 3\n",
            "3                  20               10  ...                12                -1\n",
            "4                  15               -2  ...                22                -5\n",
            "...               ...              ...  ...               ...               ...\n",
            "1019                3              -12  ...                -6                -2\n",
            "1020                3              -13  ...               -14                -7\n",
            "1021                4              -12  ...               -27                -9\n",
            "1022                2              -10  ...               -29                -6\n",
            "1023                3               -4  ...               -27                 0\n",
            "\n",
            "[1024 rows x 50 columns]\n"
          ],
          "name": "stdout"
        }
      ]
    },
    {
      "cell_type": "code",
      "metadata": {
        "colab": {
          "base_uri": "https://localhost:8080/"
        },
        "id": "Fxz793MihuF_",
        "outputId": "58f361fa-795e-4e80-85fd-95e44e269f54"
      },
      "source": [
        "# Preictal\r\n",
        "# Same code just for different directory\r\n",
        "\r\n",
        "stage = \"preictal\"\r\n",
        "\r\n",
        "# Get all CSV files\r\n",
        "all_files = glob.glob(csv_path + stage + \"/*.csv\")\r\n",
        "\r\n",
        "# Get list of filenames for use as headers in final dataframe\r\n",
        "header_list = os.listdir(csv_path + stage)   \r\n",
        "\r\n",
        "# To store dataframes for combining later\r\n",
        "li = []   \r\n",
        "\r\n",
        "# Read all CSV files and add to list of dataframes\r\n",
        "for i in range(len(all_files)):\r\n",
        "  df = pd.read_csv(all_files[i], index_col=None, header=None)\r\n",
        "  li.append(df) \r\n",
        "\r\n",
        "# Combine all dfs\r\n",
        "preictal_df = pd.concat(li, axis=1, ignore_index=True)   # axis=1 to concat columns\r\n",
        "preictal_df.columns = header_list\r\n",
        "\r\n",
        "print(preictal_df)"
      ],
      "execution_count": 76,
      "outputs": [
        {
          "output_type": "stream",
          "text": [
            "      preictal2.csv  preictal3.csv  ...  preictal45.csv  preictal44.csv\n",
            "0                 7              5  ...               6              21\n",
            "1                16              8  ...              12              27\n",
            "2                23             10  ...              18              28\n",
            "3                34             13  ...              20              27\n",
            "4                49             19  ...              17              22\n",
            "...             ...            ...  ...             ...             ...\n",
            "1019            -23            -54  ...              -5             -16\n",
            "1020            -16            -56  ...              -2             -11\n",
            "1021            -14            -55  ...               2              -7\n",
            "1022            -11            -54  ...               7              -4\n",
            "1023             -5            -46  ...               8               0\n",
            "\n",
            "[1024 rows x 50 columns]\n"
          ],
          "name": "stdout"
        }
      ]
    }
  ]
}